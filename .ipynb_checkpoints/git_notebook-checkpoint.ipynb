{
 "cells": [
  {
   "cell_type": "markdown",
   "id": "89aed4b6",
   "metadata": {},
   "source": [
    "# GIT"
   ]
  },
  {
   "cell_type": "markdown",
   "id": "f2616d10",
   "metadata": {},
   "source": [
    "---"
   ]
  },
  {
   "cell_type": "markdown",
   "id": "228ab26d",
   "metadata": {},
   "source": [
    "### CONFIG "
   ]
  },
  {
   "cell_type": "code",
   "execution_count": 3,
   "id": "d12e8ce5",
   "metadata": {},
   "outputs": [],
   "source": [
    "#!git"
   ]
  },
  {
   "cell_type": "code",
   "execution_count": 5,
   "id": "cfd85250",
   "metadata": {},
   "outputs": [
    {
     "name": "stdout",
     "output_type": "stream",
     "text": [
      "error: wrong number of arguments, should be from 1 to 2\r\n",
      "usage: git config [<options>]\r\n",
      "\r\n",
      "Config file location\r\n",
      "    --global              use global config file\r\n",
      "    --system              use system config file\r\n",
      "    --local               use repository config file\r\n",
      "    --worktree            use per-worktree config file\r\n",
      "    -f, --file <file>     use given config file\r\n",
      "    --blob <blob-id>      read config from given blob object\r\n",
      "\r\n",
      "Action\r\n",
      "    --get                 get value: name [value-pattern]\r\n",
      "    --get-all             get all values: key [value-pattern]\r\n",
      "    --get-regexp          get values for regexp: name-regex [value-pattern]\r\n",
      "    --get-urlmatch        get value specific for the URL: section[.var] URL\r\n",
      "    --replace-all         replace all matching variables: name value [value-pattern]\r\n",
      "    --add                 add a new variable: name value\r\n",
      "    --unset               remove a variable: name [value-pattern]\r\n",
      "    --unset-all           remove all matches: name [value-pattern]\r\n",
      "    --rename-section      rename section: old-name new-name\r\n",
      "    --remove-section      remove a section: name\r\n",
      "    -l, --list            list all\r\n",
      "    --fixed-value         use string equality when comparing values to 'value-pattern'\r\n",
      "    -e, --edit            open an editor\r\n",
      "    --get-color           find the color configured: slot [default]\r\n",
      "    --get-colorbool       find the color setting: slot [stdout-is-tty]\r\n",
      "\r\n",
      "Type\r\n",
      "    -t, --type <>         value is given this type\r\n",
      "    --bool                value is \"true\" or \"false\"\r\n",
      "    --int                 value is decimal number\r\n",
      "    --bool-or-int         value is --bool or --int\r\n",
      "    --bool-or-str         value is --bool or string\r\n",
      "    --path                value is a path (file or directory name)\r\n",
      "    --expiry-date         value is an expiry date\r\n",
      "\r\n",
      "Other\r\n",
      "    -z, --null            terminate values with NUL byte\r\n",
      "    --name-only           show variable names only\r\n",
      "    --includes            respect include directives on lookup\r\n",
      "    --show-origin         show origin of config (file, standard input, blob, command line)\r\n",
      "    --show-scope          show scope of config (worktree, local, global, system, command)\r\n",
      "    --default <value>     with --get, use default value when missing entry\r\n",
      "\r\n"
     ]
    }
   ],
   "source": [
    "!git config --get"
   ]
  },
  {
   "cell_type": "markdown",
   "id": "8e3ab382",
   "metadata": {},
   "source": [
    "### MAKE REPO (LOCAL)"
   ]
  },
  {
   "cell_type": "code",
   "execution_count": 5,
   "id": "2ff04681",
   "metadata": {},
   "outputs": [],
   "source": [
    "#!brew install hub"
   ]
  },
  {
   "cell_type": "code",
   "execution_count": 6,
   "id": "72a797f8",
   "metadata": {},
   "outputs": [
    {
     "data": {
      "text/plain": [
       "'/Users/matt/Documents/github/fpulse'"
      ]
     },
     "execution_count": 6,
     "metadata": {},
     "output_type": "execute_result"
    }
   ],
   "source": []
  },
  {
   "cell_type": "code",
   "execution_count": null,
   "id": "4c1e6463",
   "metadata": {},
   "outputs": [],
   "source": []
  },
  {
   "cell_type": "code",
   "execution_count": null,
   "id": "34886ecd",
   "metadata": {},
   "outputs": [],
   "source": []
  },
  {
   "cell_type": "code",
   "execution_count": 1,
   "id": "4d851755",
   "metadata": {},
   "outputs": [
    {
     "name": "stdout",
     "output_type": "stream",
     "text": [
      "/Users/matt/Documents/github/fpulse\n"
     ]
    }
   ],
   "source": [
    "%cd fpulse"
   ]
  },
  {
   "cell_type": "code",
   "execution_count": 3,
   "id": "9709a3d6",
   "metadata": {},
   "outputs": [
    {
     "name": "stdout",
     "output_type": "stream",
     "text": [
      "On branch core_structure\r\n",
      "Changes not staged for commit:\r\n",
      "  (use \"git add/rm <file>...\" to update what will be committed)\r\n",
      "  (use \"git restore <file>...\" to discard changes in working directory)\r\n",
      "\t\u001b[31mmodified:   .DS_Store\u001b[m\r\n",
      "\t\u001b[31mdeleted:    fpcomics.py\u001b[m\r\n",
      "\t\u001b[31mmodified:   main.py\u001b[m\r\n",
      "\t\u001b[31mmodified:   notebooks/fpc_mysql.ipynb\u001b[m\r\n",
      "\t\u001b[31mmodified:   requirements.in\u001b[m\r\n",
      "\t\u001b[31mmodified:   requirements.txt\u001b[m\r\n",
      "\r\n",
      "Untracked files:\r\n",
      "  (use \"git add <file>...\" to include in what will be committed)\r\n",
      "\t\u001b[31mfpcomics-efb7fdf4e6af.json\u001b[m\r\n",
      "\t\u001b[31mfpulse.py\u001b[m\r\n",
      "\t\u001b[31mnotebooks/example_add_comics.ipynb\u001b[m\r\n",
      "\t\u001b[31mpulsesql.py\u001b[m\r\n",
      "\r\n",
      "no changes added to commit (use \"git add\" and/or \"git commit -a\")\r\n"
     ]
    }
   ],
   "source": [
    "!git status"
   ]
  },
  {
   "cell_type": "code",
   "execution_count": null,
   "id": "1b53d179",
   "metadata": {},
   "outputs": [],
   "source": []
  }
 ],
 "metadata": {
  "kernelspec": {
   "display_name": "3.10.0",
   "language": "python",
   "name": "3.10.0"
  },
  "language_info": {
   "codemirror_mode": {
    "name": "ipython",
    "version": 3
   },
   "file_extension": ".py",
   "mimetype": "text/x-python",
   "name": "python",
   "nbconvert_exporter": "python",
   "pygments_lexer": "ipython3",
   "version": "3.10.0"
  }
 },
 "nbformat": 4,
 "nbformat_minor": 5
}
