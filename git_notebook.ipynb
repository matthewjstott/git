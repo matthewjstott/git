{
 "cells": [
  {
   "cell_type": "markdown",
   "id": "89aed4b6",
   "metadata": {},
   "source": [
    "# GIT"
   ]
  },
  {
   "cell_type": "markdown",
   "id": "f2616d10",
   "metadata": {},
   "source": [
    "---"
   ]
  },
  {
   "cell_type": "markdown",
   "id": "3da02018",
   "metadata": {},
   "source": [
    "### CONFIG "
   ]
  },
  {
   "cell_type": "code",
   "execution_count": 3,
   "id": "3d759d0b",
   "metadata": {},
   "outputs": [],
   "source": [
    "#!git"
   ]
  },
  {
   "cell_type": "code",
   "execution_count": 8,
   "id": "bd9910d9",
   "metadata": {},
   "outputs": [],
   "source": [
    "!git config --get user.email"
   ]
  },
  {
   "cell_type": "markdown",
   "id": "8e3ab382",
   "metadata": {},
   "source": [
    "### MAKE REPO (LOCAL)"
   ]
  },
  {
   "cell_type": "code",
   "execution_count": 5,
   "id": "2ff04681",
   "metadata": {},
   "outputs": [],
   "source": [
    "#!brew install hub"
   ]
  },
  {
   "cell_type": "code",
   "execution_count": 42,
   "id": "72a797f8",
   "metadata": {},
   "outputs": [],
   "source": [
    "#Make exxample empty dir\n",
    "!mkdir ex_dir\n",
    "#Make sure this isnt empty using convention\n",
    "!touch ex_dir/.gitkeep\n",
    "#Show dir content\n",
    "%ls -a ex_dir/"
   ]
  },
  {
   "cell_type": "markdown",
   "id": "01493abc",
   "metadata": {},
   "source": [
    "#### Make into a Git hub repo"
   ]
  },
  {
   "cell_type": "code",
   "execution_count": 43,
   "id": "34886ecd",
   "metadata": {},
   "outputs": [
    {
     "name": "stdout",
     "output_type": "stream",
     "text": [
      "\u001b[33mhint: Using 'master' as the name for the initial branch. This default branch name\u001b[m\r\n",
      "\u001b[33mhint: is subject to change. To configure the initial branch name to use in all\u001b[m\r\n",
      "\u001b[33mhint: of your new repositories, which will suppress this warning, call:\u001b[m\r\n",
      "\u001b[33mhint: \u001b[m\r\n",
      "\u001b[33mhint: \tgit config --global init.defaultBranch <name>\u001b[m\r\n",
      "\u001b[33mhint: \u001b[m\r\n",
      "\u001b[33mhint: Names commonly chosen instead of 'master' are 'main', 'trunk' and\u001b[m\r\n",
      "\u001b[33mhint: 'development'. The just-created branch can be renamed via this command:\u001b[m\r\n",
      "\u001b[33mhint: \u001b[m\r\n",
      "\u001b[33mhint: \tgit branch -m <name>\u001b[m\r\n",
      "Initialized empty Git repository in /Users/matt/Documents/data_science_space/git/.git/\r\n"
     ]
    }
   ],
   "source": [
    "!git init"
   ]
  },
  {
   "cell_type": "code",
   "execution_count": 44,
   "id": "4d851755",
   "metadata": {},
   "outputs": [
    {
     "data": {
      "text/plain": [
       "'/Users/matt/Documents/data_science_space/git'"
      ]
     },
     "execution_count": 44,
     "metadata": {},
     "output_type": "execute_result"
    }
   ],
   "source": [
    "!git add -A "
   ]
  },
  {
   "cell_type": "code",
   "execution_count": 3,
   "id": "9709a3d6",
   "metadata": {},
   "outputs": [
    {
     "name": "stdout",
     "output_type": "stream",
     "text": [
      "On branch core_structure\r\n",
      "Changes not staged for commit:\r\n",
      "  (use \"git add/rm <file>...\" to update what will be committed)\r\n",
      "  (use \"git restore <file>...\" to discard changes in working directory)\r\n",
      "\t\u001b[31mmodified:   .DS_Store\u001b[m\r\n",
      "\t\u001b[31mdeleted:    fpcomics.py\u001b[m\r\n",
      "\t\u001b[31mmodified:   main.py\u001b[m\r\n",
      "\t\u001b[31mmodified:   notebooks/fpc_mysql.ipynb\u001b[m\r\n",
      "\t\u001b[31mmodified:   requirements.in\u001b[m\r\n",
      "\t\u001b[31mmodified:   requirements.txt\u001b[m\r\n",
      "\r\n",
      "Untracked files:\r\n",
      "  (use \"git add <file>...\" to include in what will be committed)\r\n",
      "\t\u001b[31mfpcomics-efb7fdf4e6af.json\u001b[m\r\n",
      "\t\u001b[31mfpulse.py\u001b[m\r\n",
      "\t\u001b[31mnotebooks/example_add_comics.ipynb\u001b[m\r\n",
      "\t\u001b[31mpulsesql.py\u001b[m\r\n",
      "\r\n",
      "no changes added to commit (use \"git add\" and/or \"git commit -a\")\r\n"
     ]
    }
   ],
   "source": [
    "!git status"
   ]
  },
  {
   "cell_type": "code",
   "execution_count": null,
   "id": "1b53d179",
   "metadata": {},
   "outputs": [],
   "source": []
  }
 ],
 "metadata": {
  "kernelspec": {
   "display_name": "3.10.0",
   "language": "python",
   "name": "3.10.0"
  },
  "language_info": {
   "codemirror_mode": {
    "name": "ipython",
    "version": 3
   },
   "file_extension": ".py",
   "mimetype": "text/x-python",
   "name": "python",
   "nbconvert_exporter": "python",
   "pygments_lexer": "ipython3",
   "version": "3.10.0"
  }
 },
 "nbformat": 4,
 "nbformat_minor": 5
}
